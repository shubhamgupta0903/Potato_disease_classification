{
  "cells": [
    {
      "cell_type": "markdown",
      "metadata": {
        "id": "view-in-github",
        "colab_type": "text"
      },
      "source": [
        "<a href=\"https://colab.research.google.com/github/shubhamgupta0903/Potato_disease_classification/blob/main/Potato_Disease.ipynb\" target=\"_parent\"><img src=\"https://colab.research.google.com/assets/colab-badge.svg\" alt=\"Open In Colab\"/></a>"
      ]
    },
    {
      "cell_type": "code",
      "execution_count": null,
      "metadata": {
        "colab": {
          "base_uri": "https://localhost:8080/"
        },
        "id": "ISdqDud-ItSm",
        "outputId": "94e9fa33-a815-4118-d3f2-d24184d2b8bb"
      },
      "outputs": [
        {
          "name": "stdout",
          "output_type": "stream",
          "text": [
            "Mounted at /content/gdrive\n"
          ]
        }
      ],
      "source": [
        "from google.colab import drive\n",
        "\n",
        "# Mount Google Drive to '/content/gdrive'\n",
        "drive.mount('/content/gdrive')\n",
        "\n",
        "\n",
        "\n",
        "\n"
      ]
    },
    {
      "cell_type": "code",
      "execution_count": null,
      "metadata": {
        "id": "3jhqn1GTKLsd"
      },
      "outputs": [],
      "source": [
        "import os\n",
        "from PIL import Image  # Assuming you want to work with images\n",
        "\n",
        "\n",
        "\n",
        "# Define the path to your dataset\n",
        "dataset_path = '/content/gdrive/My Drive/PlantVillage'\n",
        "\n",
        "# List all folders in the dataset\n",
        "folders = os.listdir(dataset_path)\n",
        "\n",
        "# Iterate through each folder\n",
        "for folder in folders:\n",
        "    folder_path = os.path.join(dataset_path, folder)\n",
        "\n",
        "    # List all files (images) in the folder\n",
        "    files = os.listdir(folder_path)\n",
        "\n",
        "    # Iterate through each file (image) in the folder\n",
        "    for file in files:\n",
        "        file_path = os.path.join(folder_path, file)\n",
        "\n",
        "        # Do something with the file, for example, display the image\n",
        "\n",
        "\n"
      ]
    },
    {
      "cell_type": "code",
      "execution_count": null,
      "metadata": {
        "id": "--SvRv1sLHEl"
      },
      "outputs": [],
      "source": [
        "IMAGE_SIZE=256\n",
        "BATCH_SIZE=32\n",
        "CHANNELS=3\n",
        "EPOCHS=50"
      ]
    },
    {
      "cell_type": "code",
      "execution_count": null,
      "metadata": {
        "id": "PZhd3U_WQAF2"
      },
      "outputs": [],
      "source": [
        "import tensorflow as tf\n",
        "from tensorflow import keras"
      ]
    },
    {
      "cell_type": "code",
      "execution_count": null,
      "metadata": {
        "colab": {
          "base_uri": "https://localhost:8080/"
        },
        "id": "FBb0AZ0YPuMu",
        "outputId": "bd996638-c74f-4011-e12e-d3c2478a1c75"
      },
      "outputs": [
        {
          "name": "stdout",
          "output_type": "stream",
          "text": [
            "Found 2282 files belonging to 3 classes.\n"
          ]
        }
      ],
      "source": [
        "dataset = tf.keras.preprocessing.image_dataset_from_directory(\n",
        "    dataset_path,\n",
        "    image_size=(IMAGE_SIZE,IMAGE_SIZE),\n",
        "    batch_size=BATCH_SIZE,\n",
        "    shuffle=True\n",
        ")"
      ]
    },
    {
      "cell_type": "code",
      "execution_count": null,
      "metadata": {
        "colab": {
          "base_uri": "https://localhost:8080/"
        },
        "id": "iG8lxMJaQFzU",
        "outputId": "59af752d-7286-4f81-e627-72d325c72ac2"
      },
      "outputs": [
        {
          "data": {
            "text/plain": [
              "['Potato___Early_blight', 'Potato___Late_blight', 'Potato___healthy']"
            ]
          },
          "execution_count": 6,
          "metadata": {},
          "output_type": "execute_result"
        }
      ],
      "source": [
        "class_names=dataset.class_names\n",
        "class_names"
      ]
    },
    {
      "cell_type": "code",
      "execution_count": null,
      "metadata": {
        "colab": {
          "base_uri": "https://localhost:8080/"
        },
        "id": "s5umZ1MXQnMl",
        "outputId": "4625382e-c033-4f55-e58d-f5a6f6953514"
      },
      "outputs": [
        {
          "data": {
            "text/plain": [
              "72"
            ]
          },
          "execution_count": 7,
          "metadata": {},
          "output_type": "execute_result"
        }
      ],
      "source": [
        "len(dataset)"
      ]
    },
    {
      "cell_type": "code",
      "execution_count": null,
      "metadata": {
        "colab": {
          "base_uri": "https://localhost:8080/"
        },
        "id": "0fWzq9CUQyNV",
        "outputId": "55ca918a-f927-4cee-d242-7ac237cd7f2d"
      },
      "outputs": [
        {
          "data": {
            "text/plain": [
              "57.6"
            ]
          },
          "execution_count": 8,
          "metadata": {},
          "output_type": "execute_result"
        }
      ],
      "source": [
        "train_size=0.8\n",
        "len(dataset)*train_size"
      ]
    },
    {
      "cell_type": "code",
      "execution_count": null,
      "metadata": {
        "id": "-4hYTB4Cz-La"
      },
      "outputs": [],
      "source": [
        "train_ds=dataset.take(57)"
      ]
    },
    {
      "cell_type": "code",
      "execution_count": null,
      "metadata": {
        "id": "UOWoljYx0HZV"
      },
      "outputs": [],
      "source": [
        "test_ds=dataset.skip(57)"
      ]
    },
    {
      "cell_type": "code",
      "execution_count": null,
      "metadata": {
        "colab": {
          "base_uri": "https://localhost:8080/"
        },
        "id": "HyweDmil0M7o",
        "outputId": "bb8cdb31-00a4-48ab-8abd-b337b18cbb78"
      },
      "outputs": [
        {
          "data": {
            "text/plain": [
              "7.2"
            ]
          },
          "execution_count": 11,
          "metadata": {},
          "output_type": "execute_result"
        }
      ],
      "source": [
        "val_size=0.1\n",
        "len(dataset)*val_size"
      ]
    },
    {
      "cell_type": "code",
      "execution_count": null,
      "metadata": {
        "id": "usLQOt6i0XMP"
      },
      "outputs": [],
      "source": [
        "val_ds=test_ds.take(7)"
      ]
    },
    {
      "cell_type": "code",
      "execution_count": null,
      "metadata": {
        "id": "N7ljJKJO0eTx"
      },
      "outputs": [],
      "source": [
        "test_ds=test_ds.skip(7)"
      ]
    },
    {
      "cell_type": "code",
      "execution_count": null,
      "metadata": {
        "id": "iade0WLD0i1H"
      },
      "outputs": [],
      "source": [
        "def get_dataset_partition_tf(ds,train_split=0.8,test_split=0.1,val_split=0.1,shuffle=True,shuffle_size=1000):\n",
        "  ds_size=len(ds)\n",
        "  if shuffle:\n",
        "    ds=ds.shuffle(shuffle_size,seed=12)\n",
        "  train_size=int(train_split*ds_size)\n",
        "  val_size=int(val_split*ds_size)\n",
        "\n",
        "  train_ds=ds.take(train_size)\n",
        "\n",
        "  val_ds=ds.skip(train_size).take(val_size)\n",
        "  test_ds=ds.skip(train_size).skip(val_size)\n",
        "\n",
        "  return train_ds,val_ds,test_ds"
      ]
    },
    {
      "cell_type": "code",
      "execution_count": null,
      "metadata": {
        "id": "6udstCKk2roc"
      },
      "outputs": [],
      "source": [
        "train_ds,val_ds,test_ds=get_dataset_partition_tf(dataset)"
      ]
    },
    {
      "cell_type": "code",
      "execution_count": null,
      "metadata": {
        "colab": {
          "base_uri": "https://localhost:8080/"
        },
        "id": "4AS0240k4AZM",
        "outputId": "cce37d90-daa8-46fb-bc4f-3b3226a8479c"
      },
      "outputs": [
        {
          "data": {
            "text/plain": [
              "57"
            ]
          },
          "execution_count": 16,
          "metadata": {},
          "output_type": "execute_result"
        }
      ],
      "source": [
        "len(train_ds\n",
        "    )"
      ]
    },
    {
      "cell_type": "code",
      "execution_count": null,
      "metadata": {
        "id": "bZvS-J9o4FCS"
      },
      "outputs": [],
      "source": [
        "train_ds=train_ds.cache().shuffle(1000).prefetch(buffer_size=tf.data.AUTOTUNE)"
      ]
    },
    {
      "cell_type": "code",
      "execution_count": null,
      "metadata": {
        "id": "tWyPPNMz4LO0"
      },
      "outputs": [],
      "source": [
        "val_ds=val_ds.cache().shuffle(1000).prefetch(buffer_size=tf.data.AUTOTUNE)\n",
        "test_ds=test_ds.cache().shuffle(1000).prefetch(buffer_size=tf.data.AUTOTUNE)"
      ]
    },
    {
      "cell_type": "code",
      "execution_count": null,
      "metadata": {
        "id": "HCRWNIeS4zGW"
      },
      "outputs": [],
      "source": [
        "resize_and_rescale=tf.keras.Sequential([\n",
        "    keras.layers.experimental.preprocessing.Resizing(IMAGE_SIZE,IMAGE_SIZE),\n",
        "    keras.layers.experimental.preprocessing.Rescaling(1.0/255)\n",
        "]\n",
        "\n",
        ")"
      ]
    },
    {
      "cell_type": "code",
      "execution_count": null,
      "metadata": {
        "id": "3mP0cMNA5v3j"
      },
      "outputs": [],
      "source": [
        "data_augmentation=tf.keras.Sequential([\n",
        "    keras.layers.experimental.preprocessing.RandomFlip(\"horizontal_and_vertical\"),\n",
        "    keras.layers.experimental.preprocessing.RandomRotation(0.2)\n",
        "])"
      ]
    },
    {
      "cell_type": "code",
      "execution_count": null,
      "metadata": {
        "id": "AL7oq5_W7k0b"
      },
      "outputs": [],
      "source": [
        "from tensorflow.keras.models import Sequential\n",
        "n_classes=3\n",
        "model=Sequential([\n",
        "    resize_and_rescale,\n",
        "    data_augmentation,\n",
        "    keras.layers.Conv2D(32,(3,3),activation='relu',input_shape=(BATCH_SIZE,IMAGE_SIZE,IMAGE_SIZE,CHANNELS)),\n",
        "    keras.layers.MaxPooling2D(2,2),\n",
        "    keras.layers.Conv2D(64,kernel_size=(3,3),activation='relu'),\n",
        "    keras.layers.MaxPooling2D(2,2),\n",
        "    keras.layers.Conv2D(64,kernel_size=(3,3),activation='relu'),\n",
        "    keras.layers.MaxPooling2D(2,2),\n",
        "    keras.layers.Conv2D(64,kernel_size=(3,3),activation='relu'),\n",
        "    keras.layers.MaxPooling2D(2,2),\n",
        "    keras.layers.Conv2D(64,kernel_size=(3,3),activation='relu'),\n",
        "    keras.layers.MaxPooling2D(2,2),\n",
        "    keras.layers.Conv2D(64,kernel_size=(3,3),activation='relu'),\n",
        "    keras.layers.MaxPooling2D(2,2),\n",
        "    keras.layers.Flatten(),\n",
        "    keras.layers.Dense(64,activation='relu'),\n",
        "    keras.layers.Dense(n_classes,activation='softmax'),\n",
        "\n",
        "])"
      ]
    },
    {
      "cell_type": "code",
      "execution_count": null,
      "metadata": {
        "id": "GPkU3i0aap5Z"
      },
      "outputs": [],
      "source": [
        "model.build(input_shape=(BATCH_SIZE,IMAGE_SIZE,IMAGE_SIZE,CHANNELS))"
      ]
    },
    {
      "cell_type": "code",
      "execution_count": null,
      "metadata": {
        "colab": {
          "base_uri": "https://localhost:8080/"
        },
        "id": "3Fl3jjD3dvEt",
        "outputId": "cf2fbb45-a1c1-46c1-e5b5-006fb8c9cf8c"
      },
      "outputs": [
        {
          "name": "stdout",
          "output_type": "stream",
          "text": [
            "Model: \"sequential_2\"\n",
            "_________________________________________________________________\n",
            " Layer (type)                Output Shape              Param #   \n",
            "=================================================================\n",
            " sequential (Sequential)     (32, 256, 256, 3)         0         \n",
            "                                                                 \n",
            " sequential_1 (Sequential)   (32, 256, 256, 3)         0         \n",
            "                                                                 \n",
            " conv2d (Conv2D)             (32, 254, 254, 32)        896       \n",
            "                                                                 \n",
            " max_pooling2d (MaxPooling2  (32, 127, 127, 32)        0         \n",
            " D)                                                              \n",
            "                                                                 \n",
            " conv2d_1 (Conv2D)           (32, 125, 125, 64)        18496     \n",
            "                                                                 \n",
            " max_pooling2d_1 (MaxPoolin  (32, 62, 62, 64)          0         \n",
            " g2D)                                                            \n",
            "                                                                 \n",
            " conv2d_2 (Conv2D)           (32, 60, 60, 64)          36928     \n",
            "                                                                 \n",
            " max_pooling2d_2 (MaxPoolin  (32, 30, 30, 64)          0         \n",
            " g2D)                                                            \n",
            "                                                                 \n",
            " conv2d_3 (Conv2D)           (32, 28, 28, 64)          36928     \n",
            "                                                                 \n",
            " max_pooling2d_3 (MaxPoolin  (32, 14, 14, 64)          0         \n",
            " g2D)                                                            \n",
            "                                                                 \n",
            " conv2d_4 (Conv2D)           (32, 12, 12, 64)          36928     \n",
            "                                                                 \n",
            " max_pooling2d_4 (MaxPoolin  (32, 6, 6, 64)            0         \n",
            " g2D)                                                            \n",
            "                                                                 \n",
            " conv2d_5 (Conv2D)           (32, 4, 4, 64)            36928     \n",
            "                                                                 \n",
            " max_pooling2d_5 (MaxPoolin  (32, 2, 2, 64)            0         \n",
            " g2D)                                                            \n",
            "                                                                 \n",
            " flatten (Flatten)           (32, 256)                 0         \n",
            "                                                                 \n",
            " dense (Dense)               (32, 64)                  16448     \n",
            "                                                                 \n",
            " dense_1 (Dense)             (32, 3)                   195       \n",
            "                                                                 \n",
            "=================================================================\n",
            "Total params: 183747 (717.76 KB)\n",
            "Trainable params: 183747 (717.76 KB)\n",
            "Non-trainable params: 0 (0.00 Byte)\n",
            "_________________________________________________________________\n"
          ]
        }
      ],
      "source": [
        "model.summary()"
      ]
    },
    {
      "cell_type": "code",
      "execution_count": null,
      "metadata": {
        "id": "TxT3XtDFeIQO"
      },
      "outputs": [],
      "source": [
        "model.compile(\n",
        "    optimizer='adam',\n",
        "    loss=tf.keras.losses.SparseCategoricalCrossentropy(from_logits=False),\n",
        "    metrics=['accuracy']\n",
        "\n",
        ")"
      ]
    },
    {
      "cell_type": "code",
      "execution_count": null,
      "metadata": {
        "colab": {
          "background_save": true,
          "base_uri": "https://localhost:8080/"
        },
        "id": "x9h9e2t8egi7",
        "outputId": "f9558e7b-d194-4776-ea45-80a6e36e4d9f"
      },
      "outputs": [
        {
          "name": "stdout",
          "output_type": "stream",
          "text": [
            "Epoch 1/50\n",
            "57/57 [==============================] - 744s 180ms/step - loss: 0.8818 - accuracy: 0.4951 - val_loss: 0.7648 - val_accuracy: 0.6339\n",
            "Epoch 2/50\n",
            "57/57 [==============================] - 3s 61ms/step - loss: 0.5851 - accuracy: 0.7220 - val_loss: 0.5205 - val_accuracy: 0.7500\n",
            "Epoch 3/50\n",
            "57/57 [==============================] - 3s 60ms/step - loss: 0.3489 - accuracy: 0.8629 - val_loss: 0.2208 - val_accuracy: 0.9330\n",
            "Epoch 4/50\n",
            "57/57 [==============================] - 3s 60ms/step - loss: 0.2972 - accuracy: 0.8854 - val_loss: 0.3547 - val_accuracy: 0.9062\n",
            "Epoch 5/50\n",
            "57/57 [==============================] - 3s 61ms/step - loss: 0.1386 - accuracy: 0.9507 - val_loss: 0.0538 - val_accuracy: 0.9732\n",
            "Epoch 6/50\n",
            "57/57 [==============================] - 3s 59ms/step - loss: 0.1625 - accuracy: 0.9353 - val_loss: 0.1355 - val_accuracy: 0.9464\n",
            "Epoch 7/50\n",
            "57/57 [==============================] - 3s 59ms/step - loss: 0.1179 - accuracy: 0.9534 - val_loss: 0.0530 - val_accuracy: 0.9821\n",
            "Epoch 8/50\n",
            "57/57 [==============================] - 3s 60ms/step - loss: 0.0758 - accuracy: 0.9720 - val_loss: 0.0848 - val_accuracy: 0.9598\n",
            "Epoch 9/50\n",
            "57/57 [==============================] - 3s 61ms/step - loss: 0.0642 - accuracy: 0.9748 - val_loss: 0.0263 - val_accuracy: 0.9866\n",
            "Epoch 10/50\n",
            "57/57 [==============================] - 3s 59ms/step - loss: 0.0780 - accuracy: 0.9715 - val_loss: 0.1627 - val_accuracy: 0.9509\n",
            "Epoch 11/50\n",
            "57/57 [==============================] - 3s 59ms/step - loss: 0.1158 - accuracy: 0.9578 - val_loss: 0.1560 - val_accuracy: 0.9598\n",
            "Epoch 12/50\n",
            "57/57 [==============================] - 3s 60ms/step - loss: 0.0686 - accuracy: 0.9748 - val_loss: 0.1207 - val_accuracy: 0.9509\n",
            "Epoch 13/50\n",
            "57/57 [==============================] - 3s 59ms/step - loss: 0.0715 - accuracy: 0.9731 - val_loss: 0.1308 - val_accuracy: 0.9554\n",
            "Epoch 14/50\n",
            "57/57 [==============================] - 3s 58ms/step - loss: 0.0412 - accuracy: 0.9874 - val_loss: 0.1200 - val_accuracy: 0.9688\n",
            "Epoch 15/50\n",
            "57/57 [==============================] - 3s 59ms/step - loss: 0.0552 - accuracy: 0.9814 - val_loss: 0.0263 - val_accuracy: 0.9911\n",
            "Epoch 16/50\n",
            "57/57 [==============================] - 3s 61ms/step - loss: 0.0633 - accuracy: 0.9759 - val_loss: 0.0738 - val_accuracy: 0.9777\n",
            "Epoch 17/50\n",
            "57/57 [==============================] - 3s 59ms/step - loss: 0.0571 - accuracy: 0.9814 - val_loss: 0.0239 - val_accuracy: 0.9955\n",
            "Epoch 18/50\n",
            "57/57 [==============================] - 3s 58ms/step - loss: 0.0606 - accuracy: 0.9830 - val_loss: 0.0352 - val_accuracy: 0.9911\n",
            "Epoch 19/50\n",
            "57/57 [==============================] - 3s 61ms/step - loss: 0.0420 - accuracy: 0.9863 - val_loss: 0.0444 - val_accuracy: 0.9821\n",
            "Epoch 20/50\n",
            "57/57 [==============================] - 3s 59ms/step - loss: 0.0816 - accuracy: 0.9698 - val_loss: 0.0515 - val_accuracy: 0.9777\n",
            "Epoch 21/50\n",
            "57/57 [==============================] - 3s 58ms/step - loss: 0.0504 - accuracy: 0.9803 - val_loss: 0.0663 - val_accuracy: 0.9821\n",
            "Epoch 22/50\n",
            "57/57 [==============================] - 3s 58ms/step - loss: 0.0497 - accuracy: 0.9814 - val_loss: 0.0570 - val_accuracy: 0.9688\n",
            "Epoch 23/50\n",
            "57/57 [==============================] - 3s 61ms/step - loss: 0.0364 - accuracy: 0.9868 - val_loss: 0.0303 - val_accuracy: 0.9821\n",
            "Epoch 24/50\n",
            "57/57 [==============================] - 3s 58ms/step - loss: 0.0452 - accuracy: 0.9836 - val_loss: 0.1037 - val_accuracy: 0.9688\n",
            "Epoch 25/50\n",
            "57/57 [==============================] - 3s 59ms/step - loss: 0.0240 - accuracy: 0.9901 - val_loss: 0.0111 - val_accuracy: 0.9955\n",
            "Epoch 26/50\n",
            "57/57 [==============================] - 4s 64ms/step - loss: 0.0387 - accuracy: 0.9879 - val_loss: 0.0303 - val_accuracy: 0.9866\n",
            "Epoch 27/50\n",
            "57/57 [==============================] - 3s 59ms/step - loss: 0.0438 - accuracy: 0.9841 - val_loss: 0.0311 - val_accuracy: 0.9866\n",
            "Epoch 28/50\n",
            "57/57 [==============================] - 3s 59ms/step - loss: 0.0246 - accuracy: 0.9912 - val_loss: 0.0050 - val_accuracy: 1.0000\n",
            "Epoch 29/50\n",
            "57/57 [==============================] - 3s 60ms/step - loss: 0.0288 - accuracy: 0.9890 - val_loss: 0.0434 - val_accuracy: 0.9777\n",
            "Epoch 30/50\n",
            "57/57 [==============================] - 3s 60ms/step - loss: 0.0566 - accuracy: 0.9786 - val_loss: 0.0493 - val_accuracy: 0.9777\n",
            "Epoch 31/50\n",
            "57/57 [==============================] - 3s 59ms/step - loss: 0.0415 - accuracy: 0.9846 - val_loss: 0.0100 - val_accuracy: 0.9955\n",
            "Epoch 32/50\n",
            "57/57 [==============================] - 3s 58ms/step - loss: 0.0273 - accuracy: 0.9901 - val_loss: 0.0380 - val_accuracy: 0.9821\n",
            "Epoch 33/50\n",
            "57/57 [==============================] - 4s 61ms/step - loss: 0.0481 - accuracy: 0.9825 - val_loss: 0.0732 - val_accuracy: 0.9732\n",
            "Epoch 34/50\n",
            "57/57 [==============================] - 3s 59ms/step - loss: 0.0544 - accuracy: 0.9803 - val_loss: 0.0426 - val_accuracy: 0.9911\n",
            "Epoch 35/50\n",
            "57/57 [==============================] - 3s 59ms/step - loss: 0.0242 - accuracy: 0.9901 - val_loss: 0.0111 - val_accuracy: 0.9955\n",
            "Epoch 36/50\n",
            "57/57 [==============================] - 3s 61ms/step - loss: 0.0389 - accuracy: 0.9857 - val_loss: 0.0911 - val_accuracy: 0.9732\n",
            "Epoch 37/50\n",
            "57/57 [==============================] - 3s 59ms/step - loss: 0.0380 - accuracy: 0.9857 - val_loss: 0.0343 - val_accuracy: 0.9955\n",
            "Epoch 38/50\n",
            "57/57 [==============================] - 3s 59ms/step - loss: 0.0218 - accuracy: 0.9918 - val_loss: 0.0894 - val_accuracy: 0.9598\n",
            "Epoch 39/50\n",
            "57/57 [==============================] - 3s 59ms/step - loss: 0.0357 - accuracy: 0.9852 - val_loss: 0.0107 - val_accuracy: 0.9911\n",
            "Epoch 40/50\n",
            "57/57 [==============================] - 3s 60ms/step - loss: 0.0673 - accuracy: 0.9742 - val_loss: 0.0196 - val_accuracy: 0.9955\n",
            "Epoch 41/50\n",
            "57/57 [==============================] - 3s 59ms/step - loss: 0.0156 - accuracy: 0.9962 - val_loss: 0.0069 - val_accuracy: 1.0000\n",
            "Epoch 42/50\n",
            "57/57 [==============================] - 3s 59ms/step - loss: 0.0371 - accuracy: 0.9896 - val_loss: 0.0272 - val_accuracy: 0.9911\n",
            "Epoch 43/50\n",
            "57/57 [==============================] - 4s 62ms/step - loss: 0.0131 - accuracy: 0.9951 - val_loss: 0.1277 - val_accuracy: 0.9821\n",
            "Epoch 44/50\n",
            "57/57 [==============================] - 3s 59ms/step - loss: 0.0196 - accuracy: 0.9929 - val_loss: 0.0325 - val_accuracy: 0.9911\n",
            "Epoch 45/50\n",
            "57/57 [==============================] - 3s 59ms/step - loss: 0.0205 - accuracy: 0.9956 - val_loss: 0.2111 - val_accuracy: 0.9375\n",
            "Epoch 46/50\n",
            "57/57 [==============================] - 3s 61ms/step - loss: 0.0261 - accuracy: 0.9912 - val_loss: 0.0103 - val_accuracy: 0.9955\n",
            "Epoch 47/50\n",
            "57/57 [==============================] - 3s 59ms/step - loss: 0.0128 - accuracy: 0.9973 - val_loss: 0.0051 - val_accuracy: 1.0000\n",
            "Epoch 48/50\n",
            "57/57 [==============================] - 3s 59ms/step - loss: 0.0095 - accuracy: 0.9951 - val_loss: 0.0155 - val_accuracy: 0.9955\n",
            "Epoch 49/50\n",
            "57/57 [==============================] - 3s 59ms/step - loss: 0.0140 - accuracy: 0.9956 - val_loss: 0.0656 - val_accuracy: 0.9866\n",
            "Epoch 50/50\n",
            "57/57 [==============================] - 3s 61ms/step - loss: 0.0348 - accuracy: 0.9885 - val_loss: 0.0688 - val_accuracy: 0.9777\n"
          ]
        },
        {
          "data": {
            "text/plain": [
              "<keras.src.callbacks.History at 0x7d01eaa394e0>"
            ]
          },
          "execution_count": 25,
          "metadata": {},
          "output_type": "execute_result"
        }
      ],
      "source": [
        "model.fit(\n",
        "    train_ds,\n",
        "    epochs=EPOCHS,\n",
        "    batch_size=BATCH_SIZE,\n",
        "\n",
        "\n",
        "    validation_data=val_ds\n",
        ")"
      ]
    },
    {
      "cell_type": "code",
      "execution_count": null,
      "metadata": {
        "colab": {
          "background_save": true
        },
        "id": "flnoLokEfBrl",
        "outputId": "5cc542e1-6aae-459f-d436-02b62ac2079d"
      },
      "outputs": [
        {
          "name": "stdout",
          "output_type": "stream",
          "text": [
            "8/8 [==============================] - 6s 27ms/step - loss: 0.1409 - accuracy: 0.9648\n"
          ]
        }
      ],
      "source": [
        "score=model.evaluate(test_ds)"
      ]
    },
    {
      "cell_type": "code",
      "execution_count": null,
      "metadata": {
        "colab": {
          "background_save": true
        },
        "id": "kYTKvuwAg9lC",
        "outputId": "74547171-8aff-4063-ee39-52198bb6c39b"
      },
      "outputs": [
        {
          "name": "stdout",
          "output_type": "stream",
          "text": [
            "from google.colab import drive\n",
            "\n",
            "# Mount Google Drive to '/content/gdrive'\n",
            "drive.mount('/content/gdrive')\n",
            "import os\n",
            "from PIL import Image  # Assuming you want to work with images\n",
            "\n",
            "\n",
            "\n",
            "# Define the path to your dataset\n",
            "dataset_path = '/content/gdrive/My Drive/PlantVillage'\n",
            "\n",
            "# List all folders in the dataset\n",
            "folders = os.listdir(dataset_path)\n",
            "\n",
            "# Iterate through each folder\n",
            "for folder in folders:\n",
            "    folder_path = os.path.join(dataset_path, folder)\n",
            "\n",
            "    # List all files (images) in the folder\n",
            "    files = os.listdir(folder_path)\n",
            "\n",
            "    # Iterate through each file (image) in the folder\n",
            "    for file in files:\n",
            "        file_path = os.path.join(folder_path, file)\n",
            "\n",
            "        # Do something with the file, for example, display the image\n",
            "IMAGE_SIZE=256\n",
            "BATCH_SIZE=32\n",
            "CHANNELS=3\n",
            "EPOCHS=50\n",
            "import tensorflow as tf\n",
            "from tensorflow import keras\n",
            "dataset = tf.keras.preprocessing.image_dataset_from_directory(\n",
            "    dataset_path,\n",
            "    image_size=(IMAGE_SIZE,IMAGE_SIZE),\n",
            "    batch_size=BATCH_SIZE,\n",
            "    shuffle=True\n",
            ")\n",
            "class_names=dataset.class_names\n",
            "class_names\n",
            "len(dataset)\n",
            "train_size=0.8\n",
            "len(dataset)*train_size\n",
            "train_ds=dataset.take(57)\n",
            "test_ds=dataset.skip(57)\n",
            "val_size=0.1\n",
            "len(dataset)*val_size\n",
            "val_ds=test_ds.take(7)\n",
            "test_ds=test_ds.skip(7)\n",
            "def get_dataset_partition_tf(ds,train_split=0.8,test_split=0.1,val_split=0.1,shuffle=True,shuffle_size=1000):\n",
            "  ds_size=len(ds)\n",
            "  if shuffle:\n",
            "    ds=ds.shuffle(shuffle_size,seed=12)\n",
            "  train_size=int(train_split*ds_size)\n",
            "  val_size=int(val_split*ds_size)\n",
            "\n",
            "  train_ds=ds.take(train_size)\n",
            "\n",
            "  val_ds=ds.skip(train_size).take(val_size)\n",
            "  test_ds=ds.skip(train_size).skip(val_size)\n",
            "\n",
            "  return train_ds,val_ds,test_ds\n",
            "train_ds,val_ds,test_ds=get_dataset_partition_tf(dataset)\n",
            "len(train_ds\n",
            "    )\n",
            "train_ds=train_ds.cache().shuffle(1000).prefetch(buffer_size=tf.data.AUTOTUNE)\n",
            "val_ds=val_ds.cache().shuffle(1000).prefetch(buffer_size=tf.data.AUTOTUNE)\n",
            "test_ds=test_ds.cache().shuffle(1000).prefetch(buffer_size=tf.data.AUTOTUNE)\n",
            "resize_and_rescale=tf.keras.Sequential([\n",
            "    keras.layers.experimental.preprocessing.Resizing(IMAGE_SIZE,IMAGE_SIZE),\n",
            "    keras.layers.experimental.preprocessing.Rescaling(1.0/255)\n",
            "]\n",
            "\n",
            ")\n",
            "data_augmentation=tf.keras.Sequential([\n",
            "    keras.layers.experimental.preprocessing.RandomFlip(\"horizontal_and_vertical\"),\n",
            "    keras.layers.experimental.preprocessing.RandomRotation(0.2)\n",
            "])\n",
            "from tensorflow.keras.models import Sequential\n",
            "n_classes=3\n",
            "model=Sequential([\n",
            "    resize_and_rescale,\n",
            "    data_augmentation,\n",
            "    keras.layers.Conv2D(32,(3,3),activation='relu',input_shape=(BATCH_SIZE,IMAGE_SIZE,IMAGE_SIZE,CHANNELS)),\n",
            "    keras.layers.MaxPooling2D(2,2),\n",
            "    keras.layers.Conv2D(64,kernel_size=(3,3),activation='relu'),\n",
            "    keras.layers.MaxPooling2D(2,2),\n",
            "    keras.layers.Conv2D(64,kernel_size=(3,3),activation='relu'),\n",
            "    keras.layers.MaxPooling2D(2,2),\n",
            "    keras.layers.Conv2D(64,kernel_size=(3,3),activation='relu'),\n",
            "    keras.layers.MaxPooling2D(2,2),\n",
            "    keras.layers.Conv2D(64,kernel_size=(3,3),activation='relu'),\n",
            "    keras.layers.MaxPooling2D(2,2),\n",
            "    keras.layers.Conv2D(64,kernel_size=(3,3),activation='relu'),\n",
            "    keras.layers.MaxPooling2D(2,2),\n",
            "    keras.layers.Flatten(),\n",
            "    keras.layers.Dense(64,activation='relu'),\n",
            "    keras.layers.Dense(n_classes,activation='softmax'),\n",
            "\n",
            "])\n",
            "model.build(input_shape=(BATCH_SIZE,IMAGE_SIZE,IMAGE_SIZE,CHANNELS))\n",
            "model.summary()\n",
            "model.compile(\n",
            "    optimizer='adam',\n",
            "    loss=tf.keras.losses.SparseCategoricalCrossentropy(from_logits=False),\n",
            "    metrics=['accuracy']\n",
            "\n",
            ")\n",
            "model.fit(\n",
            "    train_ds,\n",
            "    epochs=EPOCHS,\n",
            "    batch_size=BATCH_SIZE,\n",
            "\n",
            "\n",
            "    validation_data=val_ds\n",
            ")\n",
            "score=model.evaluate(test_ds)\n",
            "history\n"
          ]
        }
      ],
      "source": [
        "history"
      ]
    },
    {
      "cell_type": "code",
      "execution_count": null,
      "metadata": {
        "colab": {
          "background_save": true
        },
        "id": "82v28F6dhQr2"
      },
      "outputs": [],
      "source": []
    },
    {
      "cell_type": "code",
      "execution_count": null,
      "metadata": {
        "colab": {
          "background_save": true
        },
        "id": "U-Q2QDKghSs1"
      },
      "outputs": [],
      "source": []
    },
    {
      "cell_type": "code",
      "execution_count": null,
      "metadata": {
        "colab": {
          "background_save": true
        },
        "id": "VWF3lZUthYMO"
      },
      "outputs": [],
      "source": []
    },
    {
      "cell_type": "code",
      "execution_count": null,
      "metadata": {
        "colab": {
          "background_save": true
        },
        "id": "nDUNbvnZh6pi"
      },
      "outputs": [],
      "source": []
    },
    {
      "cell_type": "code",
      "execution_count": null,
      "metadata": {
        "colab": {
          "background_save": true
        },
        "id": "DxH9QhZMjfs4"
      },
      "outputs": [],
      "source": []
    },
    {
      "cell_type": "code",
      "execution_count": null,
      "metadata": {
        "colab": {
          "background_save": true
        },
        "id": "6H4qSVGesSod"
      },
      "outputs": [],
      "source": [
        "model.save('/content/drive/My Drive/potato_disease.ipynb')\n"
      ]
    },
    {
      "cell_type": "code",
      "execution_count": null,
      "metadata": {
        "colab": {
          "background_save": true
        },
        "id": "yFP8X5K4tTYs"
      },
      "outputs": [],
      "source": [
        "model_version=1\n",
        "model.save(f\"../models/{model_version}\")"
      ]
    },
    {
      "cell_type": "code",
      "execution_count": null,
      "metadata": {
        "colab": {
          "background_save": true
        },
        "id": "1QsiCMWxwsAG",
        "outputId": "0e491ac0-3a7a-49b6-e673-24a7d5540f49"
      },
      "outputs": [
        {
          "name": "stdout",
          "output_type": "stream",
          "text": [
            "['1']\n"
          ]
        }
      ],
      "source": [
        "import os\n",
        "\n",
        "# List the contents of the directory\n",
        "print(os.listdir('/content/../models'))\n"
      ]
    },
    {
      "cell_type": "code",
      "execution_count": null,
      "metadata": {
        "colab": {
          "background_save": true
        },
        "id": "WbkTQYjdxLe2",
        "outputId": "6009abcf-6390-428c-c5d9-e00804568a13"
      },
      "outputs": [
        {
          "name": "stdout",
          "output_type": "stream",
          "text": [
            "/models/1\n"
          ]
        }
      ],
      "source": [
        "print(os.path.abspath(f\"../models/{model_version}\"))\n"
      ]
    },
    {
      "cell_type": "code",
      "execution_count": null,
      "metadata": {
        "colab": {
          "base_uri": "https://localhost:8080/",
          "height": 198
        },
        "id": "VB-AyiVn9NUo",
        "outputId": "4708417b-d5c2-43ea-cdd8-9527dbe66280"
      },
      "outputs": [
        {
          "output_type": "error",
          "ename": "NameError",
          "evalue": "name 'tf' is not defined",
          "traceback": [
            "\u001b[0;31m---------------------------------------------------------------------------\u001b[0m",
            "\u001b[0;31mNameError\u001b[0m                                 Traceback (most recent call last)",
            "\u001b[0;32m<ipython-input-1-b769e383c9ee>\u001b[0m in \u001b[0;36m<cell line: 2>\u001b[0;34m()\u001b[0m\n\u001b[1;32m      1\u001b[0m \u001b[0mmodel_version\u001b[0m\u001b[0;34m=\u001b[0m\u001b[0;36m1\u001b[0m\u001b[0;34m\u001b[0m\u001b[0;34m\u001b[0m\u001b[0m\n\u001b[0;32m----> 2\u001b[0;31m \u001b[0mconverter\u001b[0m\u001b[0;34m=\u001b[0m\u001b[0mtf\u001b[0m\u001b[0;34m.\u001b[0m\u001b[0mlite\u001b[0m\u001b[0;34m.\u001b[0m\u001b[0mTFLiteConverter\u001b[0m\u001b[0;34m.\u001b[0m\u001b[0mfrom_saved_model\u001b[0m\u001b[0;34m(\u001b[0m\u001b[0;34mf\"../models/{model_version}\"\u001b[0m\u001b[0;34m)\u001b[0m\u001b[0;34m\u001b[0m\u001b[0;34m\u001b[0m\u001b[0m\n\u001b[0m\u001b[1;32m      3\u001b[0m \u001b[0mconverter\u001b[0m\u001b[0;34m.\u001b[0m\u001b[0moptimizations\u001b[0m\u001b[0;34m=\u001b[0m\u001b[0;34m[\u001b[0m\u001b[0mtf\u001b[0m\u001b[0;34m.\u001b[0m\u001b[0mlite\u001b[0m\u001b[0;34m.\u001b[0m\u001b[0mOptimize\u001b[0m\u001b[0;34m.\u001b[0m\u001b[0mDefault\u001b[0m\u001b[0;34m]\u001b[0m\u001b[0;34m\u001b[0m\u001b[0;34m\u001b[0m\u001b[0m\n\u001b[1;32m      4\u001b[0m \u001b[0mtflite_quant_model\u001b[0m\u001b[0;34m=\u001b[0m\u001b[0mconverter\u001b[0m\u001b[0;34m.\u001b[0m\u001b[0mconvert\u001b[0m\u001b[0;34m(\u001b[0m\u001b[0;34m)\u001b[0m\u001b[0;34m\u001b[0m\u001b[0;34m\u001b[0m\u001b[0m\n",
            "\u001b[0;31mNameError\u001b[0m: name 'tf' is not defined"
          ]
        }
      ],
      "source": [
        "\n"
      ]
    },
    {
      "cell_type": "code",
      "source": [],
      "metadata": {
        "id": "ky2Hv09l-mNQ"
      },
      "execution_count": null,
      "outputs": []
    }
  ],
  "metadata": {
    "accelerator": "GPU",
    "colab": {
      "gpuType": "T4",
      "provenance": [],
      "authorship_tag": "ABX9TyMvwqs8UbDwS3yK1pDXUlSm",
      "include_colab_link": true
    },
    "kernelspec": {
      "display_name": "Python 3",
      "name": "python3"
    },
    "language_info": {
      "name": "python"
    }
  },
  "nbformat": 4,
  "nbformat_minor": 0
}